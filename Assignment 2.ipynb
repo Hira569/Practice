{
 "cells": [
  {
   "cell_type": "code",
   "execution_count": 3,
   "metadata": {},
   "outputs": [
    {
     "name": "stdout",
     "output_type": "stream",
     "text": [
      "Enter your percentage: 45\n",
      "Your Grade: D\n"
     ]
    }
   ],
   "source": [
    "per = int(input(\"Enter your percentage: \"));\n",
    "if per >=80 and per <= 100:\n",
    "  print(\"Your Grade: A+\")\n",
    "elif per >=70 and per <= 80:\n",
    "  print(\"Your Grade: A\")\n",
    "elif per >=60 and per < 70:\n",
    "  print(\"Your Grade: B\")\n",
    "elif per >=50 and per < 60:\n",
    "  print(\"Your Grade: C\")\n",
    "elif per >=40 and per < 50:\n",
    "  print(\"Your Grade: D\")\n",
    "elif per >=33 and per < 40:\n",
    "  print(\"Your Grade: E\")\n",
    "elif per >=0  and per < 33:\n",
    "  print(\"Your Grade: Failed\")\n",
    "else:\n",
    "  print(\"Inappropriate percentage.\")"
   ]
  },
  {
   "cell_type": "code",
   "execution_count": 1,
   "metadata": {},
   "outputs": [
    {
     "name": "stdout",
     "output_type": "stream",
     "text": [
      "Enter a number: 5\n",
      "odd number.\n"
     ]
    }
   ],
   "source": [
    "number = int(input(\"Enter a number: \"))\n",
    "mod = number % 2\n",
    "if mod > 0:\n",
    "    print(\"odd number.\")\n",
    "else:\n",
    "    print(\"even number.\")"
   ]
  },
  {
   "cell_type": "code",
   "execution_count": 2,
   "metadata": {},
   "outputs": [
    {
     "name": "stdout",
     "output_type": "stream",
     "text": [
      "The total length is:  2\n"
     ]
    }
   ],
   "source": [
    "a = [] \n",
    "a.append(\"Hello\") \n",
    "a.append(\"World\") \n",
    "print(\"The total length is: \", len(a))"
   ]
  },
  {
   "cell_type": "code",
   "execution_count": 3,
   "metadata": {},
   "outputs": [
    {
     "name": "stdout",
     "output_type": "stream",
     "text": [
      "How many numbers: 3\n",
      "Enter a number: 4\n",
      "Enter a number: 1\n",
      "Enter a number: 1\n",
      "Sum of elements in given list is : 6\n"
     ]
    }
   ],
   "source": [
    "list_n = []\n",
    "num = int(input('How many numbers: '))\n",
    "for n in range(num):\n",
    "  number = int(input('Enter a number: '))\n",
    "  list_n.append(number)\n",
    "print(\"Sum of elements in given list is :\", sum(list_n))"
   ]
  },
  {
   "cell_type": "code",
   "execution_count": 4,
   "metadata": {},
   "outputs": [
    {
     "name": "stdout",
     "output_type": "stream",
     "text": [
      "How many numbers: 5\n",
      "Enter a number:8\n",
      "Enter a number:10\n",
      "Enter a number:14\n",
      "Enter a number:5\n",
      "Enter a number:3\n",
      "Largest element in the given list is : 14\n"
     ]
    }
   ],
   "source": [
    "list_n = []\n",
    "num = int(input('How many numbers: '))\n",
    "for n in range(num):\n",
    "    number = int(input('Enter a number:'))\n",
    "    list_n.append(number)\n",
    "print(\"Largest element in the given list is :\", max(list_n))"
   ]
  },
  {
   "cell_type": "code",
   "execution_count": null,
   "metadata": {},
   "outputs": [],
   "source": [
    "a = [1, 1, 2, 3, 5, 8, 13, 21, 34, 55, 89]\n",
    "new_list = []\n",
    "for num in i: \n",
    "  if item < 5:\n",
    "     new_list.append(item)\n",
    "print(new_list)"
   ]
  }
 ],
 "metadata": {
  "kernelspec": {
   "display_name": "Python 3",
   "language": "python",
   "name": "python3"
  },
  "language_info": {
   "codemirror_mode": {
    "name": "ipython",
    "version": 3
   },
   "file_extension": ".py",
   "mimetype": "text/x-python",
   "name": "python",
   "nbconvert_exporter": "python",
   "pygments_lexer": "ipython3",
   "version": "3.7.4"
  }
 },
 "nbformat": 4,
 "nbformat_minor": 2
}
