{
 "cells": [
  {
   "cell_type": "code",
   "execution_count": 3,
   "metadata": {},
   "outputs": [
    {
     "name": "stdout",
     "output_type": "stream",
     "text": [
      "Enter your percentage: 45\n",
      "Your Grade: D\n"
     ]
    }
   ],
   "source": [
    "per = int(input(\"Enter your percentage: \"));\n",
    "if per >=80 and per <= 100:\n",
    "  print(\"Your Grade: A+\")\n",
    "elif per >=70 and per <= 80:\n",
    "  print(\"Your Grade: A\")\n",
    "elif per >=60 and per < 70:\n",
    "  print(\"Your Grade: B\")\n",
    "elif per >=50 and per < 60:\n",
    "  print(\"Your Grade: C\")\n",
    "elif per >=40 and per < 50:\n",
    "  print(\"Your Grade: D\")\n",
    "elif per >=33 and per < 40:\n",
    "  print(\"Your Grade: E\")\n",
    "elif per >=0  and per < 33:\n",
    "  print(\"Your Grade: Failed\")\n",
    "else:\n",
    "  print(\"Inappropriate percentage.\")"
   ]
  },
  {
   "cell_type": "code",
   "execution_count": 7,
   "metadata": {},
   "outputs": [
    {
     "name": "stdout",
     "output_type": "stream",
     "text": [
      "Enter marks of the first subject: 80\n",
      "Enter marks of the second subject: 85\n",
      "Enter marks of the third subject: 90\n",
      "Enter marks of the fourth subject: 67\n",
      "Enter marks of the fifth subject: 59\n",
      "Grade: C\n"
     ]
    }
   ],
   "source": [
    "sub1 = int(input(\"Enter marks of the first subject: \"))\n",
    "sub2 = int(input(\"Enter marks of the second subject: \"))\n",
    "sub3 = int(input(\"Enter marks of the third subject: \"))\n",
    "sub4 = int(input(\"Enter marks of the fourth subject: \"))\n",
    "sub5 = int(input(\"Enter marks of the fifth subject: \"))\n",
    "avg = (sub1+sub2+sub3+sub4+sub4)/5\n",
    "\n",
    "if(avg>=90):\n",
    " print(\"Grade: A\")\n",
    "elif(avg>=80 and avg<90):\n",
    " print(\"Grade: B\")\n",
    "elif(avg>=70 and avg<80):\n",
    " print(\"Grade: C\")\n",
    "elif(avg>=60 and avg<70):\n",
    " print(\"Grade: D\")\n",
    "else:\n",
    "  print(\"Grade: F\")"
   ]
  },
  {
   "cell_type": "code",
   "execution_count": 1,
   "metadata": {},
   "outputs": [
    {
     "name": "stdout",
     "output_type": "stream",
     "text": [
      "Enter a number: 5\n",
      "odd number.\n"
     ]
    }
   ],
   "source": [
    "number = int(input(\"Enter a number: \"))\n",
    "mod = number % 2\n",
    "if mod > 0:\n",
    "    print(\"odd number.\")\n",
    "else:\n",
    "    print(\"even number.\")"
   ]
  },
  {
   "cell_type": "code",
   "execution_count": 2,
   "metadata": {},
   "outputs": [
    {
     "name": "stdout",
     "output_type": "stream",
     "text": [
      "The total length is:  2\n"
     ]
    }
   ],
   "source": [
    "a = [] \n",
    "a.append(\"Hello\") \n",
    "a.append(\"World\") \n",
    "print(\"The total length is: \", len(a))"
   ]
  },
  {
   "cell_type": "code",
   "execution_count": 3,
   "metadata": {},
   "outputs": [
    {
     "name": "stdout",
     "output_type": "stream",
     "text": [
      "How many numbers: 3\n",
      "Enter a number: 4\n",
      "Enter a number: 1\n",
      "Enter a number: 1\n",
      "Sum of elements in given list is : 6\n"
     ]
    }
   ],
   "source": [
    "list_n = []\n",
    "num = int(input('How many numbers: '))\n",
    "for n in range(num):\n",
    "  number = int(input('Enter a number: '))\n",
    "  list_n.append(number)\n",
    "print(\"Sum of elements in given list is :\", sum(list_n))"
   ]
  },
  {
   "cell_type": "code",
   "execution_count": 4,
   "metadata": {},
   "outputs": [
    {
     "name": "stdout",
     "output_type": "stream",
     "text": [
      "How many numbers: 5\n",
      "Enter a number:8\n",
      "Enter a number:10\n",
      "Enter a number:14\n",
      "Enter a number:5\n",
      "Enter a number:3\n",
      "Largest element in the given list is : 14\n"
     ]
    }
   ],
   "source": [
    "list_n = []\n",
    "num = int(input('How many numbers: '))\n",
    "for n in range(num):\n",
    "    number = int(input('Enter a number:'))\n",
    "    list_n.append(number)\n",
    "print(\"Largest element in the given list is :\", max(list_n))"
   ]
  },
  {
   "cell_type": "code",
   "execution_count": 6,
   "metadata": {},
   "outputs": [
    {
     "name": "stdout",
     "output_type": "stream",
     "text": [
      "[1, 1, 2, 3]\n"
     ]
    }
   ],
   "source": [
    "i = [1, 1, 2, 3, 5, 8, 13, 21, 34, 55, 89]\n",
    "new_list = []\n",
    "for num in i: \n",
    "  if num < 5:\n",
    "     new_list.append(num)\n",
    "print(new_list)"
   ]
  },
  {
   "cell_type": "code",
   "execution_count": null,
   "metadata": {},
   "outputs": [],
   "source": []
  }
 ],
 "metadata": {
  "kernelspec": {
   "display_name": "Python 3",
   "language": "python",
   "name": "python3"
  },
  "language_info": {
   "codemirror_mode": {
    "name": "ipython",
    "version": 3
   },
   "file_extension": ".py",
   "mimetype": "text/x-python",
   "name": "python",
   "nbconvert_exporter": "python",
   "pygments_lexer": "ipython3",
   "version": "3.7.4"
  }
 },
 "nbformat": 4,
 "nbformat_minor": 2
}
