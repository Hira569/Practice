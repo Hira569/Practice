{
 "cells": [
  {
   "cell_type": "code",
   "execution_count": 1,
   "metadata": {},
   "outputs": [
    {
     "name": "stdout",
     "output_type": "stream",
     "text": [
      "Select operation.\n",
      "1. Addition\n",
      "2. Subtract\n",
      "3. Multiply\n",
      "4. Divide\n",
      "5. Power\n",
      "Enter your choice: 5\n",
      "Enter first number: 5\n",
      "Enter second number: 2\n",
      "5.0 ^ 2.0 = 25.0\n"
     ]
    }
   ],
   "source": [
    "def add(x, y):\n",
    "   return x + y\n",
    "def subtract(x, y):\n",
    "   return x - y\n",
    "def multiply(x, y):\n",
    "   return x * y\n",
    "def divide(x, y):\n",
    "   return x / y\n",
    "def power(x, y):\n",
    "   return x**y\n",
    "\n",
    "print(\"Select operation.\")\n",
    "print(\"1. Addition\")\n",
    "print(\"2. Subtract\")\n",
    "print(\"3. Multiply\")\n",
    "print(\"4. Divide\")\n",
    "print(\"5. Power\")\n",
    "\n",
    "choice = input(\"Enter your choice: \")\n",
    "num1 = float(input(\"Enter first number: \"))\n",
    "num2 = float(input(\"Enter second number: \"))\n",
    "\n",
    "if choice == '1':\n",
    "   print(num1,\"+\",num2,\"=\", add(num1,num2))\n",
    "elif choice == '2':\n",
    "   print(num1,\"-\",num2,\"=\", subtract(num1,num2))\n",
    "elif choice == '3':\n",
    "   print(num1,\"*\",num2,\"=\", multiply(num1,num2))\n",
    "elif choice == '4':\n",
    "   print(num1,\"/\",num2,\"=\", divide(num1,num2))\n",
    "elif choice == '5':\n",
    "   print(num1,\"^\",num2,\"=\", power(num1,num2))\n",
    "else:\n",
    "   print(\"Invalid choice!!\")"
   ]
  },
  {
   "cell_type": "code",
   "execution_count": 12,
   "metadata": {},
   "outputs": [
    {
     "name": "stdout",
     "output_type": "stream",
     "text": [
      "There is a numeric value in the list\n"
     ]
    }
   ],
   "source": [
    "l = ['happy', 'birthday', '2', 'hello']\n",
    "\n",
    "for x in l:\n",
    "    if str(x).isdigit():\n",
    "        print(\"There is a numeric value in the list\")"
   ]
  },
  {
   "cell_type": "code",
   "execution_count": 4,
   "metadata": {},
   "outputs": [
    {
     "name": "stdout",
     "output_type": "stream",
     "text": [
      "{0: 10, 1: 20, 2: 30}\n"
     ]
    }
   ],
   "source": [
    "c = {0:10, 1:20}  \n",
    "c.update({2:30})  \n",
    "print(c) \n"
   ]
  },
  {
   "cell_type": "code",
   "execution_count": 5,
   "metadata": {},
   "outputs": [
    {
     "name": "stdout",
     "output_type": "stream",
     "text": [
      "Sum :  4\n"
     ]
    }
   ],
   "source": [
    "def r_sum(dict): \n",
    "      \n",
    "     sum = 0\n",
    "     for i in dict.values(): \n",
    "           sum = sum + i \n",
    "     return sum\n",
    "  \n",
    "dict = {'a': 2, 'b':0, 'c':2} \n",
    "print(\"Sum : \", r_sum(dict)) "
   ]
  },
  {
   "cell_type": "code",
   "execution_count": 6,
   "metadata": {},
   "outputs": [
    {
     "name": "stdout",
     "output_type": "stream",
     "text": [
      "[2]\n"
     ]
    }
   ],
   "source": [
    "def dup(x): \n",
    "    size = len(x) \n",
    "    dup = [] \n",
    "    for i in range(size): \n",
    "        k = i + 1\n",
    "        for j in range(k, size): \n",
    "            if x[i] == x[j] and x[i] not in dup: \n",
    "                dup.append(x[i]) \n",
    "    return dup \n",
    "\n",
    "list1 = [1, 2, 3, 2, 2] \n",
    "print (dup(list1)) "
   ]
  },
  {
   "cell_type": "code",
   "execution_count": 10,
   "metadata": {},
   "outputs": [
    {
     "name": "stdout",
     "output_type": "stream",
     "text": [
      "Key is present in the dictionary\n"
     ]
    }
   ],
   "source": [
    "l = {1: 1, 2: 2, 3: 3, 4: 400}\n",
    "def check(x):\n",
    "  if x in l:\n",
    "      print('Key is present in the dictionary')\n",
    "  else:\n",
    "      print('Key is not present in the dictionary')\n",
    "        \n",
    "check(4)"
   ]
  },
  {
   "cell_type": "code",
   "execution_count": null,
   "metadata": {},
   "outputs": [],
   "source": []
  }
 ],
 "metadata": {
  "kernelspec": {
   "display_name": "Python 3",
   "language": "python",
   "name": "python3"
  },
  "language_info": {
   "codemirror_mode": {
    "name": "ipython",
    "version": 3
   },
   "file_extension": ".py",
   "mimetype": "text/x-python",
   "name": "python",
   "nbconvert_exporter": "python",
   "pygments_lexer": "ipython3",
   "version": "3.7.4"
  }
 },
 "nbformat": 4,
 "nbformat_minor": 2
}
