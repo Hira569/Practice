{
 "cells": [
  {
   "cell_type": "code",
   "execution_count": 3,
   "metadata": {},
   "outputs": [
    {
     "name": "stdout",
     "output_type": "stream",
     "text": [
      "Hira\n",
      "Sharif\n",
      "21\n",
      "Karachi\n",
      "Software Engineering\n",
      "NED\n",
      "The student previous academic level: Software Engineering\n",
      "From: NED\n",
      "The student new academic level: [Update] Masters in Urdu\n",
      "From: [Update] UoK\n",
      "Deleted element:  UoK\n",
      "After deletion our data is : {'Field': 'Masters in Urdu'}\n"
     ]
    }
   ],
   "source": [
    "person_ = {\n",
    "    'first_name': 'Hira',\n",
    "    'last_name': 'Sharif',\n",
    "    'age': 21,\n",
    "    'city': 'Karachi',\n",
    "        }\n",
    "print(person_['first_name'])\n",
    "print(person_['last_name'])\n",
    "print(person_['age'])\n",
    "print(person_['city'])\n",
    "\n",
    "dict = {'Field': 'Software Engineering', 'University': 'NED'}\n",
    "print(dict['Field'])\n",
    "print(dict['University'])\n",
    "print(\"The student previous academic level:\", dict.get('Field'))\n",
    "print(\"From:\", dict.get('University'))\n",
    "dict['Field'] = 'Masters in Urdu'\n",
    "dict['University'] = 'UoK'\n",
    "print(\"The student new academic level: [Update]\", dict.get('Field'))\n",
    "print(\"From: [Update]\", dict.get('University'))\n",
    "print(\"Deleted element: \",dict.pop('University')) \n",
    "print('After deletion our data is :',dict)"
   ]
  },
  {
   "cell_type": "code",
   "execution_count": 5,
   "metadata": {},
   "outputs": [
    {
     "name": "stdout",
     "output_type": "stream",
     "text": [
      "Cities Dictionary:\n",
      "Karachi\n",
      "Faisalabad\n",
      "Multan\n",
      "Information Of Karachi\n",
      "{'country': 'Pakistan', 'population': '14.9 million', 'fact': \"Karachi is one of the world's fastest growing cities\"}\n",
      "Information Of Faisalabad\n",
      "{'country': 'Pakistan', 'population': '6.5 million', 'fact': 'The second-largest in the eastern province of Punjab'}\n",
      "Information Of Multan\n",
      "{'country': 'Pakistan', 'population': '1,014,825', 'fact': \"Multan is Pakistan's 7th largest city\"}\n"
     ]
    }
   ],
   "source": [
    "print('Cities Dictionary:')\n",
    "city = {\n",
    "    'city1' : 'Karachi',\n",
    "    'city2' : 'Faisalabad',\n",
    "    'city3' : 'Multan',  \n",
    "}\n",
    "print(city['city1'])\n",
    "print(city['city2'])\n",
    "print(city['city3'])\n",
    "\n",
    "informationOfKarachi ={\n",
    "    'country' : 'Pakistan',\n",
    "    'population' :'14.9 million',\n",
    "    'fact' : 'Karachi is one of the world\\'s fastest growing cities',\n",
    "}\n",
    "print('Information Of Karachi')\n",
    "print(informationOfKarachi)\n",
    "\n",
    "informationOfFaisalabad ={\n",
    "    'country' : 'Pakistan',\n",
    "    'population' :'6.5 million',\n",
    "    'fact' : 'The second-largest in the eastern province of Punjab',\n",
    "}\n",
    "print('Information Of Faisalabad')\n",
    "print(informationOfFaisalabad)\n",
    "\n",
    "informationOfMultan ={\n",
    "    'country' : 'Pakistan',\n",
    "    'population' :'1,014,825',\n",
    "    'fact' : 'Multan is Pakistan\\'s 7th largest city',\n",
    "}\n",
    "print('Information Of Multan')\n",
    "print(informationOfMultan)"
   ]
  },
  {
   "cell_type": "code",
   "execution_count": 6,
   "metadata": {},
   "outputs": [
    {
     "name": "stdout",
     "output_type": "stream",
     "text": [
      "Checking ticket pricing according to the age.\n",
      "Enter Your Age: 5\n",
      "Your ticket is $10\n"
     ]
    }
   ],
   "source": [
    "print('Checking ticket pricing according to the age.')\n",
    "age = int(input('Enter Your Age: '))\n",
    "if age <= 3:\n",
    "      print(\"Your ticket is free\")\n",
    "elif age >=3 and age <12:\n",
    "        print(\"Your ticket is $10\")\n",
    "else:\n",
    "        print(\"Your ticket is $15\")"
   ]
  },
  {
   "cell_type": "code",
   "execution_count": 7,
   "metadata": {},
   "outputs": [
    {
     "name": "stdout",
     "output_type": "stream",
     "text": [
      "One of my favorite books is Alice in Wonderland\n"
     ]
    }
   ],
   "source": [
    "def favorite_book(title):\n",
    "    print( 'One of my favorite books is '+ title)\n",
    "favorite_book('Alice in Wonderland')"
   ]
  },
  {
   "cell_type": "code",
   "execution_count": null,
   "metadata": {},
   "outputs": [],
   "source": [
    "import random\n",
    "guessesTaken = 3\n",
    "number = random.randint(1, 30)\n",
    "print(' I am thinking of a number between 1 and 30.')\n",
    "while guessesTaken < 6:\n",
    "    print('Take a guess.')\n",
    "    guess = input()\n",
    "    guess = int(guess)\n",
    "    \n",
    "    guessesTaken = guessesTaken + 1\n",
    "    \n",
    "    if guess < number:\n",
    "         print('Your guess is too low.')\n",
    "    if guess > number:\n",
    "        print('Your guess is too high.')\n",
    "    if guess == number:\n",
    "        break \n",
    "    if guess == number:\n",
    "        guessesTaken = str(guessesTaken)\n",
    "        print('Good job, ' + myName + '! You guessed my number in ' + guessesTaken + ' guesses!')\n",
    "    if guess != number:\n",
    "        number = str(number)\n",
    "        print('Nope. The number I was thinking of was ' + number)"
   ]
  },
  {
   "cell_type": "code",
   "execution_count": null,
   "metadata": {},
   "outputs": [],
   "source": []
  }
 ],
 "metadata": {
  "kernelspec": {
   "display_name": "Python 3",
   "language": "python",
   "name": "python3"
  },
  "language_info": {
   "codemirror_mode": {
    "name": "ipython",
    "version": 3
   },
   "file_extension": ".py",
   "mimetype": "text/x-python",
   "name": "python",
   "nbconvert_exporter": "python",
   "pygments_lexer": "ipython3",
   "version": "3.7.4"
  }
 },
 "nbformat": 4,
 "nbformat_minor": 2
}
